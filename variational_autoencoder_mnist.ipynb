{
 "cells": [
  {
   "cell_type": "code",
   "execution_count": 1,
   "metadata": {},
   "outputs": [],
   "source": [
    "from __future__ import absolute_import\n",
    "from __future__ import division\n",
    "from __future__ import print_function\n",
    "from keras.layers import Lambda, Input, Dense\n",
    "from keras.models import Model\n",
    "from keras.datasets import mnist\n",
    "from keras.losses import mse \n",
    "from keras import backend as K\n",
    "import numpy as np\n",
    "import matplotlib.pyplot as plt"
   ]
  },
  {
   "cell_type": "code",
   "execution_count": 2,
   "metadata": {},
   "outputs": [
    {
     "name": "stdout",
     "output_type": "stream",
     "text": [
      "Model: \"encoder\"\n",
      "__________________________________________________________________________________________________\n",
      "Layer (type)                    Output Shape         Param #     Connected to                     \n",
      "==================================================================================================\n",
      "input_1 (InputLayer)            [(None, 784)]        0                                            \n",
      "__________________________________________________________________________________________________\n",
      "dense (Dense)                   (None, 256)          200960      input_1[0][0]                    \n",
      "__________________________________________________________________________________________________\n",
      "dense_1 (Dense)                 (None, 64)           16448       dense[0][0]                      \n",
      "__________________________________________________________________________________________________\n",
      "dense_2 (Dense)                 (None, 2)            130         dense_1[0][0]                    \n",
      "__________________________________________________________________________________________________\n",
      "dense_3 (Dense)                 (None, 2)            130         dense_1[0][0]                    \n",
      "__________________________________________________________________________________________________\n",
      "lambda (Lambda)                 (None, 2)            0           dense_2[0][0]                    \n",
      "                                                                 dense_3[0][0]                    \n",
      "==================================================================================================\n",
      "Total params: 217,668\n",
      "Trainable params: 217,668\n",
      "Non-trainable params: 0\n",
      "__________________________________________________________________________________________________\n",
      "Model: \"decoder\"\n",
      "_________________________________________________________________\n",
      "Layer (type)                 Output Shape              Param #   \n",
      "=================================================================\n",
      "input_2 (InputLayer)         [(None, 2)]               0         \n",
      "_________________________________________________________________\n",
      "dense_4 (Dense)              (None, 64)                192       \n",
      "_________________________________________________________________\n",
      "dense_5 (Dense)              (None, 256)               16640     \n",
      "_________________________________________________________________\n",
      "dense_6 (Dense)              (None, 784)               201488    \n",
      "=================================================================\n",
      "Total params: 218,320\n",
      "Trainable params: 218,320\n",
      "Non-trainable params: 0\n",
      "_________________________________________________________________\n"
     ]
    }
   ],
   "source": [
    "# データセット読み込み\n",
    "(x_train, y_train), (x_test, y_test) = mnist.load_data()\n",
    "image_size = x_train.shape[1] # = 784\n",
    "original_dim = image_size * image_size\n",
    "x_train = np.reshape(x_train, [-1, original_dim])\n",
    "x_test = np.reshape(x_test, [-1, original_dim])\n",
    "x_train = x_train.astype('float32') / 255\n",
    "x_test = x_test.astype('float32') / 255\n",
    "\n",
    "input_shape = (original_dim, )\n",
    "latent_dim = 2\n",
    "\n",
    "# Reparametrization Trick \n",
    "def sampling(args):\n",
    "    z_mean, z_logvar = args\n",
    "    batch = K.shape(z_mean)[0]\n",
    "    dim = K.int_shape(z_mean)[1]\n",
    "    epsilon = K.random_normal(shape=(batch, dim), seed = 5) # ε\n",
    "    return z_mean + K.exp(0.5 * z_logvar) * epsilon\n",
    "\n",
    "# VAEモデル構築\n",
    "inputs = Input(shape=input_shape)\n",
    "x1 = Dense(256, activation='relu')(inputs)  \n",
    "x2 = Dense(64, activation='relu')(x1) \n",
    "z_mean = Dense(latent_dim)(x2)\n",
    "z_logvar = Dense(latent_dim)(x2)\n",
    "z = Lambda(sampling, output_shape=(latent_dim,))([z_mean, z_logvar])\n",
    "encoder = Model(inputs, [z_mean, z_logvar, z], name='encoder')\n",
    "encoder.summary()\n",
    "\n",
    "latent_inputs = Input(shape=(latent_dim,))\n",
    "x3 = Dense(64, activation='relu')(latent_inputs)  \n",
    "x4 = Dense(256, activation='relu')(x3)  \n",
    "outputs = Dense(original_dim, activation='sigmoid')(x4)\n",
    "decoder = Model(latent_inputs, outputs, name='decoder')\n",
    "decoder.summary()\n",
    "\n",
    "z_output = encoder(inputs)[2]\n",
    "outputs = decoder(z_output)\n",
    "vae = Model(inputs, outputs, name='variational_autoencoder')\n",
    "\n",
    "# 損失関数\n",
    "# Kullback-Leibler Loss\n",
    "kl_loss = 1 + z_logvar - K.square(z_mean) - K.exp(z_logvar)\n",
    "kl_loss = K.sum(kl_loss, axis=-1)\n",
    "kl_loss *= -0.5\n",
    "# Reconstruction Loss\n",
    "reconstruction_loss = mse(inputs, outputs)\n",
    "reconstruction_loss *= original_dim\n",
    "\n",
    "vae_loss = K.mean(reconstruction_loss + kl_loss)\n",
    "vae.add_loss(vae_loss)"
   ]
  },
  {
   "cell_type": "code",
   "execution_count": null,
   "metadata": {},
   "outputs": [
    {
     "name": "stdout",
     "output_type": "stream",
     "text": [
      "Epoch 1/50\n",
      "235/235 [==============================] - 4s 17ms/step - loss: 57.5695 - val_loss: 45.9800\n",
      "Epoch 2/50\n",
      "235/235 [==============================] - 4s 17ms/step - loss: 44.7460 - val_loss: 43.5027\n",
      "Epoch 3/50\n",
      "235/235 [==============================] - 4s 19ms/step - loss: 43.0082 - val_loss: 42.2514\n",
      "Epoch 4/50\n",
      "235/235 [==============================] - 4s 17ms/step - loss: 42.0338 - val_loss: 41.4285\n",
      "Epoch 5/50\n",
      "235/235 [==============================] - 4s 16ms/step - loss: 41.2499 - val_loss: 40.7275\n",
      "Epoch 6/50\n",
      "235/235 [==============================] - 4s 16ms/step - loss: 40.6262 - val_loss: 40.1753\n",
      "Epoch 7/50\n",
      "235/235 [==============================] - 4s 16ms/step - loss: 40.0916 - val_loss: 39.6940\n",
      "Epoch 8/50\n",
      "235/235 [==============================] - 4s 17ms/step - loss: 39.6249 - val_loss: 39.2167\n",
      "Epoch 9/50\n",
      "235/235 [==============================] - 4s 16ms/step - loss: 39.2122 - val_loss: 38.8890\n",
      "Epoch 10/50\n",
      "235/235 [==============================] - 4s 17ms/step - loss: 38.8422 - val_loss: 38.6109\n",
      "Epoch 11/50\n",
      " 82/235 [=========>....................] - ETA: 2s - loss: 38.6267"
     ]
    }
   ],
   "source": [
    "vae.compile(optimizer='adam')\n",
    "vae.fit(x_train,\n",
    "                epochs=50,\n",
    "                batch_size=256,\n",
    "                validation_data=(x_test, None))"
   ]
  }
 ],
 "metadata": {
  "kernelspec": {
   "display_name": "Python 3",
   "language": "python",
   "name": "python3"
  },
  "language_info": {
   "codemirror_mode": {
    "name": "ipython",
    "version": 3
   },
   "file_extension": ".py",
   "mimetype": "text/x-python",
   "name": "python",
   "nbconvert_exporter": "python",
   "pygments_lexer": "ipython3",
   "version": "3.8.5"
  }
 },
 "nbformat": 4,
 "nbformat_minor": 4
}
